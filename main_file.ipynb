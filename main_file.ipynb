{
 "cells": [
  {
   "cell_type": "code",
   "execution_count": 3,
   "metadata": {},
   "outputs": [],
   "source": [
    "from pytesseract import pytesseract"
   ]
  },
  {
   "cell_type": "code",
   "execution_count": 9,
   "metadata": {},
   "outputs": [
    {
     "name": "stdout",
     "output_type": "stream",
     "text": [
      "Extracted Text:\n",
      "The Ellora Caves are a UNESCO World Heritage Site in Aurangabad district,\n",
      "Maharashtra, India. It is one of the largest rock-cut Hindu temple cave complexes in the\n",
      "world, with artwork dating from the period 600-1000 AD, also including several Buddhist\n",
      "and Jain caves.!\"Il2] The complex is a leading example of Indian rock-cut architecture,\n",
      "and several are not strictly \"caves\" in that they have no roof. Cave 16 features the\n",
      "largest single monolithic rock excavation in the world, the Kailash temple, a chariot-\n",
      "shaped monument dedicated to the god Shiva. The Kailash temple excavation also\n",
      "features sculptures depicting various Hindu deities as well as relief panels summarizing\n",
      "the two major Hindu epics.\n",
      "\n",
      "\n",
      "Translated Text in Hindi:\n",
      "एलोरा गुफाएं औरंगाबाद जिले में एक यूनेस्को विश्व धरोहर स्थल हैं,\n",
      "महाराष्ट्र, भारत।यह सबसे बड़ा रॉक-कट हिंदू मंदिर गुफा परिसरों में से एक है\n",
      "दुनिया, 600-1000 ईस्वी की अवधि से कलाकृति के साथ, कई बौद्ध भी शामिल है\n",
      "और जैन गुफाएँ! \"IL2] परिसर भारतीय रॉक-कट वास्तुकला का एक प्रमुख उदाहरण है,\n",
      "और कई सख्ती से \"गुफाएं\" नहीं हैं कि उनकी कोई छत नहीं है।गुफा 16 में सुविधाएँ\n",
      "दुनिया में सबसे बड़ा एकल अखंड रॉक खुदाई, कैलाश मंदिर, एक रथ-\n",
      "भगवान शिव को समर्पित आकार का स्मारक।कैलाश मंदिर खुदाई भी\n",
      "विभिन्न हिंदू देवताओं के साथ -साथ राहत पैनलों को सारांशित करने वाली मूर्तियां हैं\n",
      "दो प्रमुख हिंदू महाकाव्यों।\n",
      "\n",
      "Translated Text in French:\n",
      "Les grottes d'Ellora sont un site du patrimoine mondial de l'UNESCO dans le district d'Aurangabad,\n",
      "Maharashtra, Inde.C'est l'un des plus grands complexes de grottes de temple hindou à rocher dans le\n",
      "Monde, avec des œuvres d'art datant de la période 600-1000 après JC, y compris plusieurs bouddhistes\n",
      "et Jain Caves.! \"IL2] Le complexe est un exemple leader de l'architecture de coupe de roche indienne,\n",
      "et plusieurs ne sont pas strictement \"grottes\" en ce qu'ils n'ont pas de toit.Cave 16 Caractéristiques Le\n",
      "La plus grande fouille monolithique en roche monolithique au monde, le temple Kailash, un char-\n",
      "Monument en forme dédié au dieu Shiva.L'excavation du temple du kailash aussi\n",
      "Comprend des sculptures représentant diverses divinités hindoues ainsi que des panneaux de secours résument\n",
      "Les deux épopées hindoues majeures.\n",
      "\n",
      "Translated Text in Spanish:\n",
      "Las cuevas de Ellora son un sitio del Patrimonio Mundial de la UNESCO en el distrito de Aurangabad,\n",
      "Maharashtra, India.Es uno de los complejos de cuevas de la templo hindú más grandes cortados en la roca en el\n",
      "Mundo, con obras de arte que datan del período 600-1000 DC, que también incluye varios budistas\n",
      "y cuevas jainistas.\n",
      "y varias no son estrictamente \"cuevas\" en el sentido de que no tienen techo.Cave 16 presenta el\n",
      "Excavación de roca monolítica más grande del mundo, el Templo Kailash, un carro\n",
      "Monumento en forma dedicado al dios Shiva.La excavación del templo Kailash también\n",
      "presenta esculturas que representan varias deidades hindúes, así como paneles de ayuda que resumen\n",
      "Las dos principales epopeyas hindúes.\n"
     ]
    }
   ],
   "source": [
    "from PIL import Image\n",
    "import pytesseract\n",
    "from googletrans import Translator\n",
    "\n",
    "\n",
    "pytesseract.pytesseract.tesseract_cmd = r\"C:\\Program Files\\Tesseract-OCR\\tesseract.exe\"  # Update for Windows\n",
    "\n",
    "\n",
    "image_path = \"ex3.png\"  \n",
    "image = Image.open(image_path)\n",
    "\n",
    "extracted_text = pytesseract.image_to_string(image)\n",
    "\n",
    "\n",
    "print(\"Extracted Text:\") #noww\n",
    "print(extracted_text)\n",
    "\n",
    "\n",
    "translator = Translator()\n",
    "\n",
    "languages = {\n",
    "    \"Hindi\": \"hi\",\n",
    "    \"French\": \"fr\",\n",
    "    \"Spanish\": \"es\"\n",
    "}\n",
    "\n",
    "for language, code in languages.items():\n",
    "    translated_text = translator.translate(extracted_text, dest=code).text\n",
    "    print(f\"\\nTranslated Text in {language}:\")\n",
    "    print(translated_text)\n",
    "\n",
    "\n",
    "\n"
   ]
  },
  {
   "cell_type": "code",
   "execution_count": null,
   "metadata": {},
   "outputs": [],
   "source": []
  },
  {
   "cell_type": "code",
   "execution_count": null,
   "metadata": {},
   "outputs": [],
   "source": []
  },
  {
   "cell_type": "code",
   "execution_count": null,
   "metadata": {},
   "outputs": [],
   "source": []
  },
  {
   "cell_type": "code",
   "execution_count": null,
   "metadata": {},
   "outputs": [],
   "source": []
  }
 ],
 "metadata": {
  "kernelspec": {
   "display_name": "Python 3",
   "language": "python",
   "name": "python3"
  },
  "language_info": {
   "codemirror_mode": {
    "name": "ipython",
    "version": 3
   },
   "file_extension": ".py",
   "mimetype": "text/x-python",
   "name": "python",
   "nbconvert_exporter": "python",
   "pygments_lexer": "ipython3",
   "version": "3.9.13"
  }
 },
 "nbformat": 4,
 "nbformat_minor": 2
}
